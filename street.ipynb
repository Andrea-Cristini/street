{
  "cells": [
    {
      "cell_type": "code",
      "execution_count": 11,
      "metadata": {
        "collapsed": true,
        "id": "nybPciZJ9OVC"
      },
      "outputs": [],
      "source": [
        "\"\"\" Street registry data transformation task.\n",
        "    -----------------------------\n",
        "    Notebook which imports the dataset,\n",
        "    and executes the required transformations.\n",
        "\"\"\"\n",
        "\n",
        "import os\n",
        "os.system('pip install apache-beam[interactive]') # uncomment for first instance\n",
        "import apache_beam as beam\n",
        "import csv\n",
        "import json\n",
        "from google.colab import files"
      ]
    },
    {
      "cell_type": "code",
      "source": [
        "def parse_csv(line, header):\n",
        "    \"\"\" Parser function for all lines in CSV file,\n",
        "    also requires a header to be specified as a list.\n",
        "    \"\"\"\n",
        "\n",
        "    fields = next(csv.reader([line]))\n",
        "    return dict(zip(header, fields))"
      ],
      "metadata": {
        "id": "QqRXmmX8xcQ7"
      },
      "execution_count": 12,
      "outputs": []
    },
    {
      "cell_type": "code",
      "source": [
        "def create_id(element):\n",
        "    \"\"\" Property ID creation function. Appends the primary\n",
        "    and secondary address fields to the postcode. Returns\n",
        "    a tuple of the property ID and remaining fields.\n",
        "    \"\"\"\n",
        "\n",
        "    prop_id = element['postcode'].replace(' ','_') + '_' + \\\n",
        "              element['paon'].replace(' ', '_') + '_' + \\\n",
        "              element['saon'].replace(' ', '_')\n",
        "    return prop_id, element"
      ],
      "metadata": {
        "id": "RMd1kIV20iBi"
      },
      "execution_count": 13,
      "outputs": []
    },
    {
      "cell_type": "code",
      "source": [
        "def json_transform(entry):\n",
        "    \"\"\" Transform function to collect all of the relevant\n",
        "    elements across the dataset into a dictionary.\n",
        "    \"\"\"\n",
        "\n",
        "    prop_id, element = entry\n",
        "    trans_data = {\n",
        "                # transaction data\n",
        "                \"trans_id\": element['uuid'],\n",
        "                \"price\": element['price'],\n",
        "                \"date\": element['date'],\n",
        "                \"ppd\": element['ppd'],\n",
        "                \"record\": element['record'],\n",
        "                # address data\n",
        "                \"postcode\": element['postcode'],\n",
        "                \"paon\": element['paon'],\n",
        "                \"saon\": element['saon'],\n",
        "                \"street\": element['street'],\n",
        "                \"locality\": element['locality'],\n",
        "                \"town\": element['town'],\n",
        "                \"district\": element['district'],\n",
        "                \"country\": element['country'],\n",
        "                # property data\n",
        "                \"type\": element['type'],\n",
        "                \"newbuild\": element['newbuild'],\n",
        "                \"tenure\": element['tenure']}\n",
        "\n",
        "    return prop_id, trans_data"
      ],
      "metadata": {
        "id": "yUSQ05f4B47s"
      },
      "execution_count": 14,
      "outputs": []
    },
    {
      "cell_type": "code",
      "source": [
        "def create_json(entry):\n",
        "    \"\"\" Create JSON structure ready for writing. Each entry\n",
        "    corresponds to a single property with the relevant\n",
        "    elements. Also contains an element transactions containing\n",
        "    a list of all transactions and their relevant fields.\n",
        "    \"\"\"\n",
        "\n",
        "    prop_id, trans_data = entry\n",
        "    out_data = {\n",
        "        \"postcode\": trans_data[0]['postcode'],\n",
        "        \"paon\": trans_data[0]['paon'],\n",
        "        \"saon\": trans_data[0]['saon'],\n",
        "        \"street\": trans_data[0]['street'],\n",
        "        \"locality\": trans_data[0]['locality'],\n",
        "        \"town\": trans_data[0]['town'],\n",
        "        \"district\": trans_data[0]['district'],\n",
        "        \"country\": trans_data[0]['country'],\n",
        "        \"type\": trans_data[0]['type'],\n",
        "        \"newbuild\": trans_data[0]['newbuild'],\n",
        "        \"tenure\": trans_data[0]['tenure'],\n",
        "        \"transactions\": [\n",
        "            {\n",
        "                'trans_id': trans['trans_id'],\n",
        "                'price': trans['price'],\n",
        "                'date': trans['date'],\n",
        "                'ppd': trans['ppd'],\n",
        "                'record': trans['record']\n",
        "            } for trans in trans_data]}\n",
        "\n",
        "    out = json.dumps(out_data)\n",
        "    return out"
      ],
      "metadata": {
        "id": "IflSBB2BFvUv"
      },
      "execution_count": 15,
      "outputs": []
    },
    {
      "cell_type": "code",
      "source": [
        "header = ['uuid','price','date','postcode','type','newbuild','tenure',\n",
        "          'paon','saon','street','locality','town','district','country',\n",
        "          'ppd','record']\n",
        "\n",
        "#fname = 'pp-july24.csv'\n",
        "fname = 'pp-2020-nohead.csv'"
      ],
      "metadata": {
        "id": "9D_tGLVU0oil"
      },
      "execution_count": 16,
      "outputs": []
    },
    {
      "cell_type": "code",
      "source": [
        "# beam pipeline instructions\n",
        "with beam.Pipeline() as pipe:\n",
        "    (\n",
        "        pipe\n",
        "        | 'read csv' >> beam.io.ReadFromText(fname)\n",
        "        | 'parse csv' >> beam.Map(lambda line: parse_csv(line, header))\n",
        "        | 'create property id' >> beam.Map(create_id)\n",
        "        | 'transform to json' >> beam.Map(json_transform)\n",
        "        | 'group by property id' >> beam.GroupByKey()\n",
        "        | 'create json output' >> beam.Map(create_json)\n",
        "        | 'write json' >> beam.io.WriteToText(fname[:-4], file_name_suffix='.json')\n",
        "    )"
      ],
      "metadata": {
        "id": "M5qH7ufINYhr"
      },
      "execution_count": 17,
      "outputs": []
    },
    {
      "cell_type": "code",
      "source": [
        "files.download(fname[:-4]+'-00000-of-00001.json')"
      ],
      "metadata": {
        "colab": {
          "base_uri": "https://localhost:8080/",
          "height": 34
        },
        "id": "dWOJAJ2_af0f",
        "outputId": "cb62cac4-7a79-45df-f083-78e9558aca3e"
      },
      "execution_count": 18,
      "outputs": [
        {
          "output_type": "display_data",
          "data": {
            "text/plain": [
              "<IPython.core.display.Javascript object>"
            ],
            "application/javascript": [
              "\n",
              "    async function download(id, filename, size) {\n",
              "      if (!google.colab.kernel.accessAllowed) {\n",
              "        return;\n",
              "      }\n",
              "      const div = document.createElement('div');\n",
              "      const label = document.createElement('label');\n",
              "      label.textContent = `Downloading \"${filename}\": `;\n",
              "      div.appendChild(label);\n",
              "      const progress = document.createElement('progress');\n",
              "      progress.max = size;\n",
              "      div.appendChild(progress);\n",
              "      document.body.appendChild(div);\n",
              "\n",
              "      const buffers = [];\n",
              "      let downloaded = 0;\n",
              "\n",
              "      const channel = await google.colab.kernel.comms.open(id);\n",
              "      // Send a message to notify the kernel that we're ready.\n",
              "      channel.send({})\n",
              "\n",
              "      for await (const message of channel.messages) {\n",
              "        // Send a message to notify the kernel that we're ready.\n",
              "        channel.send({})\n",
              "        if (message.buffers) {\n",
              "          for (const buffer of message.buffers) {\n",
              "            buffers.push(buffer);\n",
              "            downloaded += buffer.byteLength;\n",
              "            progress.value = downloaded;\n",
              "          }\n",
              "        }\n",
              "      }\n",
              "      const blob = new Blob(buffers, {type: 'application/binary'});\n",
              "      const a = document.createElement('a');\n",
              "      a.href = window.URL.createObjectURL(blob);\n",
              "      a.download = filename;\n",
              "      div.appendChild(a);\n",
              "      a.click();\n",
              "      div.remove();\n",
              "    }\n",
              "  "
            ]
          },
          "metadata": {}
        },
        {
          "output_type": "display_data",
          "data": {
            "text/plain": [
              "<IPython.core.display.Javascript object>"
            ],
            "application/javascript": [
              "download(\"download_b20142c2-e897-4ef1-b632-743ca551bf8d\", \"pp-2020-nohead-00000-of-00001.json\", 325309219)"
            ]
          },
          "metadata": {}
        }
      ]
    },
    {
      "cell_type": "markdown",
      "source": [
        "Header list and description:\n",
        "\n",
        "| **Data item**                         | **Explanation (where appropriate)**                                                                                                                                                                   |\n",
        "|---------------------------------------|-------------------------------------------------------------------------------------------------------------------------------------------------------------------------------------------------------|\n",
        "| **Transaction unique identifier**     | A reference number which is generated automatically recording each<br> published sale. The number is unique and will change<br> each time a sale is recorded.                                          |\n",
        "| **Price**                             | Sale price stated on the transfer deed.                                                                                                                                                               |\n",
        "| **Date of Transfer**                  | Date when the sale was completed, as stated on the<br> transfer deed.                                                                                                                                 |\n",
        "| **Postcode**                          | This is the postcode used at the time of the original<br> transaction. Note that postcodes can be reallocated<br> and these changes are not reflected in the<br> Price Paid Dataset.                   |\n",
        "| **Property Type**                     | D = Detached, S = Semi-Detached, T = Terraced, F = Flats/Maisonettes,<br> O = Other. Note that i) HM Land Registry only<br> records the above categories to describe property type,<br> ii) they do not separately identify bungalows,<br> iii) end-of-terrace properties are included in the<br> Terraced category, iii) 'Other' is only valid for<br> transactions relating to property types not covered by existing values. |\n",
        "| **Old/New**                           | Indicates the age of the property and applies to all<br> price paid transactions, residential and non-residential.<br> Y = a newly built property, N = an established<br> residential building.         |\n",
        "| **Duration**                          | Relates to the tenure: F = Freehold, L = Leasehold etc.<br> HM Land Registry does not record leases of 7 years<br> or less in the Price Paid Dataset.                                                 |\n",
        "| **PAON**                              | Primary Addressable Object Name. Typically the<br> house number or name.                                                                                                                              |\n",
        "| **SAON**                              | Secondary Addressable Object Name. Where a property<br> has been divided into separate units (for example,<br> flats), the PAON will identify the building and<br> a SAON will identify the flat/unit. |\n",
        "| **Street**                            | Street name where the property is located.                                                                                                                                                            |\n",
        "| **Locality**                          | The locality where the property is situated.                                                                                                                                                          |\n",
        "| **Town/City**                         | The town or city of the property.                                                                                                                                                                     |\n",
        "| **District**                          | The administrative district of the property.                                                                                                                                                          |\n",
        "| **County**                            | The county where the property is located.                                                                                                                                                             |\n",
        "| **PPD Category Type**                 | Indicates the type of Price Paid transaction. A = Standard Price<br> Paid entry, including single residential property sold for value.<br> B = Additional Price Paid entry including transfers under a power of sale/repossessions,<br> buy-to-lets (where they can be identified by a Mortgage),<br> and transfers to non-private individuals.<br> Category B does not separately identify transaction types stated.               |\n",
        "| **Record Status - monthly file only** | Indicates additions, changes and deletions to the records.<br> A = Addition, C = Change, D = Delete. Note that where<br> a transaction changes category type due to misallocation<br> it will be deleted from the original category type<br> and added to the correct category with a new<br> transaction unique identifier. |\n"
      ],
      "metadata": {
        "id": "ctxH2xgN2KG9"
      }
    },
    {
      "cell_type": "markdown",
      "source": [
        "Note for improvement in pipeline:\n",
        "\n",
        "There are some transactions which are linked to the original one but should not be considered a separate transaction. These will be recorded separately with a slightly different date and possibly price, but all other fields identical, except for the PPD category. The transaction pair will consist of a type A plus a type B in the PPD field.\n",
        "\n",
        "Ideally in cases such as these, the earlier transaction will be filtered out as a duplicate.\n",
        "\n",
        "Example:\n",
        "YO8 8SH, 15 Willow Gardens (2020)"
      ],
      "metadata": {
        "id": "9TE3_r4m6tm2"
      }
    }
  ],
  "metadata": {
    "colab": {
      "provenance": []
    },
    "kernelspec": {
      "display_name": "Python 3",
      "name": "python3"
    },
    "language_info": {
      "name": "python"
    }
  },
  "nbformat": 4,
  "nbformat_minor": 0
}